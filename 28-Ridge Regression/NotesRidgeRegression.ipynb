{
 "cells": [
  {
   "cell_type": "code",
   "execution_count": 2,
   "metadata": {},
   "outputs": [],
   "source": [
    "# Interview Question relation between the lambda and slope square in ridge regression"
   ]
  },
  {
   "cell_type": "code",
   "execution_count": 3,
   "metadata": {},
   "outputs": [],
   "source": [
    "# h theta(x)=0.34+0.52x1 +0.48x2+0.24x3\n",
    "# here  it means if x1 moves 1 unit  then y move 0.52 unit\n",
    "# Ridge regression make sure the cost function never become zero \n",
    "# we add lambda and slope component to the cost function of linear regression\n"
   ]
  },
  {
   "cell_type": "code",
   "execution_count": 4,
   "metadata": {},
   "outputs": [],
   "source": [
    "# h thetha(x)=0.34 +0.52x1+0.48x2+0.24x3\n",
    "# when all this independent feature will apply together their value will get reduce\n",
    "#  =0.34+0.40x1+0.38x2+0.14x4 "
   ]
  },
  {
   "cell_type": "code",
   "execution_count": 5,
   "metadata": {},
   "outputs": [],
   "source": [
    "# In leave one out Cv  we take one validation at a time rest as training \n",
    "# this technique is not used to much may use in some cases\n",
    "# Disadvantages:-\n",
    "# this increases the complexity of training model\n",
    "# may cause overfitting"
   ]
  },
  {
   "cell_type": "code",
   "execution_count": 6,
   "metadata": {},
   "outputs": [],
   "source": [
    "# At the end, cv is used for hyper parameter tuning along with to check \n",
    "# how my model perform with validation dataset\n",
    "# K fold CV is mostly used\n",
    "# problem with K fold Cv :-\n",
    "# we do not get right combination of data in validation dataset\n",
    "# if only 1's or 0's get accumulated in validation dataset then \n",
    "# model will not train itself properly\n",
    "# In stratifed k fold cv, it make sure equal or in right combination of data is available in dataset\n",
    "# in 60:40 ratio"
   ]
  },
  {
   "cell_type": "code",
   "execution_count": null,
   "metadata": {},
   "outputs": [],
   "source": [
    "# time series Cv is used for such dataset which depends on the time or days"
   ]
  }
 ],
 "metadata": {
  "kernelspec": {
   "display_name": "Python 3",
   "language": "python",
   "name": "python3"
  },
  "language_info": {
   "codemirror_mode": {
    "name": "ipython",
    "version": 3
   },
   "file_extension": ".py",
   "mimetype": "text/x-python",
   "name": "python",
   "nbconvert_exporter": "python",
   "pygments_lexer": "ipython3",
   "version": "3.12.5"
  }
 },
 "nbformat": 4,
 "nbformat_minor": 2
}
