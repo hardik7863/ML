{
 "cells": [
  {
   "cell_type": "markdown",
   "metadata": {},
   "source": []
  },
  {
   "cell_type": "markdown",
   "metadata": {},
   "source": [
    "p value is nothing but  the probability of specific outcome in a specific region region"
   ]
  },
  {
   "cell_type": "markdown",
   "metadata": {},
   "source": [
    "we define confidance interval eg let 30-70 be the confidenace interval if the probability lies in the range  then the coin is fair otherwise not"
   ]
  },
  {
   "cell_type": "markdown",
   "metadata": {},
   "source": [
    "domain expertises is need to draw confidance interval"
   ]
  },
  {
   "cell_type": "markdown",
   "metadata": {},
   "source": []
  },
  {
   "cell_type": "markdown",
   "metadata": {},
   "source": [
    "significance value is also set by domain expert  is ued to find confidance interval\n"
   ]
  },
  {
   "cell_type": "markdown",
   "metadata": {},
   "source": [
    "Z test and T test is used for average data\n",
    "\n",
    "Chi square is used for categorial data\n",
    "\n",
    "Annova is used for variance data"
   ]
  },
  {
   "cell_type": "markdown",
   "metadata": {},
   "source": [
    "for Z test conditions are:-\n",
    "1) you must have population standard deviation \n",
    "2) n>30"
   ]
  },
  {
   "cell_type": "markdown",
   "metadata": {},
   "source": [
    "if we do not have population standard deviation then we will use student t distribution where we use sample standard deviation instead of population standard deviation"
   ]
  },
  {
   "cell_type": "markdown",
   "metadata": {},
   "source": [
    "In student t distribution , degree of freedom is very important \n",
    "if there are 3 people and 3 chairs if each one sit on them one by one then only 2 people will get choices i.e =n-1=3-1=2\n",
    "\n",
    "This is also known as t test or T stats"
   ]
  },
  {
   "cell_type": "markdown",
   "metadata": {},
   "source": []
  }
 ],
 "metadata": {
  "language_info": {
   "name": "python"
  }
 },
 "nbformat": 4,
 "nbformat_minor": 2
}
