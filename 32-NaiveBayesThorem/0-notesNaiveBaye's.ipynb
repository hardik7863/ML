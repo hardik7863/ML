{
 "cells": [
  {
   "cell_type": "markdown",
   "metadata": {
    "vscode": {
     "languageId": "plaintext"
    }
   },
   "source": [
    "denominator of naive bayes can be ignore since in both case of yes and no \n",
    "it is constant\n"
   ]
  },
  {
   "cell_type": "markdown",
   "metadata": {},
   "source": [
    "naive baye's solve binary as well as multi classification problem"
   ]
  },
  {
   "cell_type": "markdown",
   "metadata": {},
   "source": [
    "bernoulii naive bayes is used when features have only two values like yes or no , male or female "
   ]
  },
  {
   "cell_type": "markdown",
   "metadata": {},
   "source": [
    "bernoulli naive bayes all categorial fetures are converted in the numerical values  and they are in the form of sparse matrix for nlp based problems we will use bernouli and multinomial naive bayes we will implement both in nlp for better understanding"
   ]
  },
  {
   "cell_type": "markdown",
   "metadata": {},
   "source": [
    "Multinomial naive bayers is used when input is in test format\n",
    "eg:- spam classification \n",
    " spam or not spam (ham)\n",
    " we will use nlp to convert the this text into numerical values"
   ]
  },
  {
   "cell_type": "markdown",
   "metadata": {},
   "source": [
    "Gaussian naive bayes :- IRIS dataset ,features are contineouse\n",
    "predict whether the person is overweight or not"
   ]
  },
  {
   "cell_type": "markdown",
   "metadata": {},
   "source": [
    "if majority features of dataset follows bernoullii and minority gausian then we will use bernoulli naive bayes"
   ]
  },
  {
   "cell_type": "markdown",
   "metadata": {},
   "source": []
  }
 ],
 "metadata": {
  "kernelspec": {
   "display_name": "venv",
   "language": "python",
   "name": "python3"
  },
  "language_info": {
   "name": "python",
   "version": "3.12.5"
  }
 },
 "nbformat": 4,
 "nbformat_minor": 2
}
