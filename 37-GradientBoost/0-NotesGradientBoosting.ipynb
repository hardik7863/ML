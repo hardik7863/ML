{
 "cells": [
  {
   "cell_type": "markdown",
   "metadata": {},
   "source": [
    "Step1- Create a base model which is not biased \n",
    "\n",
    "we will calculate the average of dependent feature here is 75 K\n",
    "\n",
    "Then the output of base model will be 75 K"
   ]
  },
  {
   "cell_type": "markdown",
   "metadata": {},
   "source": [
    "Step-2 Compute the residuals and errors\n",
    " \n",
    " residual will be calulated by subtracting the value of dependent feature with average value\n"
   ]
  },
  {
   "cell_type": "markdown",
   "metadata": {},
   "source": [
    "Step-3 Construct a decision tree consider input as xi(experience and degree) and output as Ri(Residual)\n",
    "\n",
    "when decision tree is pass with some input and it gives the output as r2\n",
    "\n",
    "after training with independent features and r1 we will get r2 \n",
    "\n",
    "r2 will not be the final output the final predicted output will be output of first record + output of second record\n",
    "\n",
    "75+(-23)=52 {overfitting}\n",
    "\n",
    "we will not predict the output in this way instead\n",
    "\n",
    "we will use learning rate \n",
    "predicted o/p = 75+ (learning rate)*(Decision tree output One)\n",
    "=75+(0.1)(-23)=72.7"
   ]
  },
  {
   "cell_type": "markdown",
   "metadata": {},
   "source": [
    "final function will be created "
   ]
  },
  {
   "cell_type": "markdown",
   "metadata": {},
   "source": []
  }
 ],
 "metadata": {
  "language_info": {
   "name": "python"
  }
 },
 "nbformat": 4,
 "nbformat_minor": 2
}
