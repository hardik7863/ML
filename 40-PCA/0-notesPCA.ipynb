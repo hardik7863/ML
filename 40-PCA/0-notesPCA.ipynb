{
 "cells": [
  {
   "cell_type": "markdown",
   "metadata": {},
   "source": [
    "Curse of Dimensionality:- more the features(dimensions) more the accuracy is a myth \n",
    "After a point of time , having more feature do not make sense beacuse it become overfitted and accuracy decreases"
   ]
  },
  {
   "cell_type": "markdown",
   "metadata": {},
   "source": [
    "Two different ways to remove curse of dimensionality \n",
    "\n",
    "1) feature Selection\n",
    "\n",
    "2) Dimensionality Reduction(PCA)"
   ]
  },
  {
   "cell_type": "markdown",
   "metadata": {},
   "source": [
    "Why we perform Dimensionality Reduction?\n",
    "\n",
    "1) Prevent -> Curse Of Dimensionality\n",
    "\n",
    "2)Improve the performance of the model\n",
    "\n",
    "3)Visualize the Data -> understand the data\n",
    "\n",
    "we cannot visualize beyond 3d so we try to reduce the dimensionality"
   ]
  },
  {
   "cell_type": "markdown",
   "metadata": {},
   "source": [
    "In feature selection, we uses covariance if covariance is +ve it means there is directly proportion relationship whereas -ve it mean there is inversely proportion relationship \n",
    " if covariance is zero it means that there is no relationship btw x and y"
   ]
  },
  {
   "cell_type": "markdown",
   "metadata": {},
   "source": [
    "In Feature extraction, we are trying to extract new feature from given features "
   ]
  },
  {
   "cell_type": "markdown",
   "metadata": {},
   "source": []
  }
 ],
 "metadata": {
  "language_info": {
   "name": "python"
  }
 },
 "nbformat": 4,
 "nbformat_minor": 2
}
