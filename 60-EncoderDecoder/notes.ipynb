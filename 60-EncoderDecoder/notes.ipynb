{
 "cells": [
  {
   "cell_type": "markdown",
   "metadata": {},
   "source": [
    "In Case of many to many RNN, \n",
    "\n",
    "for eg:- Machine Language Translation  \n",
    "\n",
    "English ---> France \n",
    "\n",
    "This is a sequence to sequence neural network in which there is sequencial data as input  and output is also a sequencial data\n",
    "\n",
    "In that case we cannot use simple RNN, LSTM RNN, GRU RNN because they will not give good accuracy\n",
    "\n",
    "we use encoder and decoder architecture because it has better accuracy"
   ]
  },
  {
   "cell_type": "markdown",
   "metadata": {},
   "source": [
    "The suggestion you get in linked chat Hi, how are You ? they are using sequence to sequence architecture"
   ]
  },
  {
   "cell_type": "markdown",
   "metadata": {},
   "source": [
    "Encoder converts input into context vector and this context vector has all information about the input in the form of vector\n",
    "\n",
    "Decoder use context vector to generate the output"
   ]
  },
  {
   "cell_type": "markdown",
   "metadata": {},
   "source": [
    "# **\"< SOS >\"** is the start of the sentence  \n",
    "\n",
    "# **\"< EOS >\"** is the end of the sentence"
   ]
  },
  {
   "cell_type": "markdown",
   "metadata": {},
   "source": [
    "these Long term memory and short term memory collectively is called context vectors"
   ]
  },
  {
   "cell_type": "markdown",
   "metadata": {},
   "source": [
    "each white square box process the forget gate input gate and output gate  as they are LSTM"
   ]
  },
  {
   "cell_type": "markdown",
   "metadata": {},
   "source": [
    "Research find that when sentence of varying length is uses its accuracy decreases"
   ]
  },
  {
   "cell_type": "markdown",
   "metadata": {},
   "source": [
    "So, we uses another mechanism called attention mechanism."
   ]
  },
  {
   "cell_type": "markdown",
   "metadata": {},
   "source": []
  }
 ],
 "metadata": {
  "language_info": {
   "name": "python"
  }
 },
 "nbformat": 4,
 "nbformat_minor": 2
}
