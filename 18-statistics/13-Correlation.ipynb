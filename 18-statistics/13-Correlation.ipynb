{
 "cells": [
  {
   "cell_type": "markdown",
   "metadata": {},
   "source": [
    "covariance and correlation are two statistical measures used to determine the relationship \n",
    "btw two continous varibales "
   ]
  },
  {
   "cell_type": "markdown",
   "metadata": {},
   "source": [
    "covariance does not have a specific limit value that is \n",
    "if cov(a,b) is 20 cov(b,c) is 30 we cannot compare this two cov\n",
    "because the range of covariance is minus infinity to plus infinity\n",
    "\n"
   ]
  },
  {
   "cell_type": "markdown",
   "metadata": {},
   "source": [
    "disadvantage of covariance:-"
   ]
  },
  {
   "cell_type": "markdown",
   "metadata": {},
   "source": [
    "therefore we use correlation it limits the value btw -1 and 1 "
   ]
  },
  {
   "cell_type": "markdown",
   "metadata": {},
   "source": [
    "drawback with pearson correlation is it is unable to capture the correlation for non linear data i.e in case of contineous data its value may get affect"
   ]
  },
  {
   "cell_type": "markdown",
   "metadata": {},
   "source": [
    "in spearmen we uses rank R(x),R(y) which perform better than pearson correlation"
   ]
  },
  {
   "cell_type": "markdown",
   "metadata": {},
   "source": [
    "correlation helps in feature selection we check the correlation with our output feature \n",
    "and decide whether the feature to consider or not "
   ]
  }
 ],
 "metadata": {
  "kernelspec": {
   "display_name": "Python 3",
   "language": "python",
   "name": "python3"
  },
  "language_info": {
   "codemirror_mode": {
    "name": "ipython",
    "version": 3
   },
   "file_extension": ".py",
   "mimetype": "text/x-python",
   "name": "python",
   "nbconvert_exporter": "python",
   "pygments_lexer": "ipython3",
   "version": "3.12.5"
  }
 },
 "nbformat": 4,
 "nbformat_minor": 2
}
