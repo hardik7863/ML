{
 "cells": [
  {
   "cell_type": "markdown",
   "metadata": {},
   "source": [
    "We cannot apply linear regression in binary classification because of two reasons "
   ]
  },
  {
   "cell_type": "markdown",
   "metadata": {},
   "source": [
    "1)Because of outliers best fit line is shifted \n",
    "\n",
    "2)it may give output greator than 1 or less than 0"
   ]
  },
  {
   "cell_type": "markdown",
   "metadata": {},
   "source": [
    "logistic regression uses sigmoid activation function to solve this problem due to which the value remain btw 0 to 1"
   ]
  },
  {
   "cell_type": "markdown",
   "metadata": {},
   "source": [
    "cost function of logistic regression is non convex function due to which it has local minima and global minima which creates issue because thetha is stagnand at local minima and slope becomes zero to prevent this we use log loss"
   ]
  },
  {
   "cell_type": "markdown",
   "metadata": {},
   "source": [
    "transformed the cost function to get the convex function"
   ]
  },
  {
   "cell_type": "markdown",
   "metadata": {},
   "source": [
    "In logistic regression, the performance metrics is CAPRE\n",
    "\n",
    "C - Confusion matrix\n",
    "\n",
    "A-Accuracy\n",
    "\n",
    "P-Precision\n",
    "\n",
    "R-Recall\n",
    "\n",
    "E- F-Beta score"
   ]
  },
  {
   "cell_type": "markdown",
   "metadata": {},
   "source": [
    "confusion matrix counts the no. of times Tp,Tn,fp,fn occur by observing actual output  and predicted output "
   ]
  },
  {
   "cell_type": "markdown",
   "metadata": {},
   "source": [
    "Accuracy is calulated = Tp+Tn/Tp+Tn+fp+fn"
   ]
  },
  {
   "cell_type": "markdown",
   "metadata": {},
   "source": [
    "if the dataset is imbalance we cannot apply accuracy,we need to use the precision and recall "
   ]
  },
  {
   "cell_type": "markdown",
   "metadata": {},
   "source": [
    "precision=tp/tp+fp \n",
    "\n",
    "out of all the actual value how many are correctly predicted"
   ]
  },
  {
   "cell_type": "markdown",
   "metadata": {},
   "source": [
    "recall=tp/tp+fn\n",
    "\n",
    "out of all the predicted value how many are correctly predicted"
   ]
  },
  {
   "cell_type": "markdown",
   "metadata": {},
   "source": [
    "Usecase-1:-\n",
    "Spam classification \n",
    "\n",
    "mail-> spam \n",
    "\n",
    "model-> spam   {Good}\n",
    "\n",
    "mail->not spam\n",
    "\n",
    "model->spam   {Blunder}\n",
    "\n",
    "here we use precision and our objective is to reduce the fp"
   ]
  },
  {
   "cell_type": "markdown",
   "metadata": {},
   "source": [
    "Usecase-2:-\n",
    "To predict whether person has diabites or not\n",
    "\n",
    "truth-> diabetes\n",
    "\n",
    "model-> doesnt have diabetes {Blunder}\n",
    "\n",
    "truth-> diabetes\n",
    "\n",
    "model-> diabetes {Good}\n",
    "\n",
    "truth-> not diabeties\n",
    "\n",
    "model-> diabetes  {can have 2nd opinion and check }\n",
    "\n",
    "In this case we use recall and try to reduce the false negative\n"
   ]
  },
  {
   "cell_type": "markdown",
   "metadata": {},
   "source": [
    "f- beta score"
   ]
  },
  {
   "cell_type": "markdown",
   "metadata": {},
   "source": [
    "logistic regression can be used for more than 2 classification also i.e multiclasses classification it uses the concept of One Verses Rest(OVR)"
   ]
  },
  {
   "cell_type": "markdown",
   "metadata": {},
   "source": [
    "let say there are three features f1 f2 f3 and has three o/p categories o1,o2,o3 it uses one internal model (M1)which will apply binary classification on f1 and (f2,f3) then another model (M2) will be used to classify f2 and (f1 ,f3) features and another model (M3) which will used to classify f3 and (f1,f2)"
   ]
  },
  {
   "cell_type": "markdown",
   "metadata": {},
   "source": [
    "at the end output from all three model will be combine to find in which block it will be present"
   ]
  },
  {
   "cell_type": "markdown",
   "metadata": {},
   "source": [
    "M1->inputfeature{f1,f2,f3} ,o/p:-{O1}\n",
    "\n",
    "M2->inputfeature{f1,f2,f3} ,o/p:-{O2}\n",
    "\n",
    "M3->inputfeature{f1,f2,f3} ,o/p:-{O3}"
   ]
  },
  {
   "cell_type": "markdown",
   "metadata": {},
   "source": [
    "new test data is passed to all three models lets say\n",
    "if we getting m1 ,m2 ,m3 probability as [0.25,0.20,0.55]\n",
    "then it will lie in category 3 as it has more probability of occurance"
   ]
  },
  {
   "cell_type": "markdown",
   "metadata": {},
   "source": []
  }
 ],
 "metadata": {
  "language_info": {
   "name": "python"
  }
 },
 "nbformat": 4,
 "nbformat_minor": 2
}
