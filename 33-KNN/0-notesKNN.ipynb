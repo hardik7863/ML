{
 "cells": [
  {
   "cell_type": "markdown",
   "metadata": {},
   "source": [
    "knn can be both multi categorial and binary category"
   ]
  },
  {
   "cell_type": "markdown",
   "metadata": {},
   "source": [
    "there are two ways to calculate the distance for selecting the neighbours of the predicted point\n",
    "\n",
    "1) Euclidian Distance \n",
    "\n",
    "d= sq root[sq((x2-x2))+ sq(y2-y1)]\n",
    "\n",
    "2) manhattan distance \n",
    "\n",
    "it go through first base then perpendicular\n",
    "\n",
    "Application:- uber uses this distance to calculate how far is the user is and cab driver is in USA. "
   ]
  },
  {
   "cell_type": "markdown",
   "metadata": {},
   "source": [
    "IN case of KNN regression problem we take k neigbours and take average or median (in case of outliers) of k neigbours that is our output"
   ]
  },
  {
   "cell_type": "markdown",
   "metadata": {},
   "source": [
    "what we are doing is we are calculating the distance of predicted point from all points and then figuring out the k nearset neigbour this is takes the time complexcity in O(n) if we have millions of datapoints then\n",
    "\n",
    "we use KD tree or Ball tree to optimize this\n",
    "\n",
    "this trees uses binary tree which reduces the time complexicity to half"
   ]
  },
  {
   "cell_type": "markdown",
   "metadata": {},
   "source": [
    "In Kd tree, we are dividing the plot in x-axis then in yaxis then again x axis like wise to construct the regions which makes easier to find nearst neighbours "
   ]
  },
  {
   "cell_type": "markdown",
   "metadata": {},
   "source": [
    "Ball tree is better than kd tree beacuse In kd tree we are performaing backtracking whereas in ball tree we are not performing in ball tree"
   ]
  },
  {
   "cell_type": "markdown",
   "metadata": {},
   "source": [
    "time complexity of ball tree is much much less as compare to kd tree \n"
   ]
  },
  {
   "cell_type": "markdown",
   "metadata": {},
   "source": [
    "In both cases we are using binary tree but ball tree is forming from bottom to up"
   ]
  },
  {
   "cell_type": "markdown",
   "metadata": {},
   "source": []
  }
 ],
 "metadata": {
  "language_info": {
   "name": "python"
  }
 },
 "nbformat": 4,
 "nbformat_minor": 2
}
