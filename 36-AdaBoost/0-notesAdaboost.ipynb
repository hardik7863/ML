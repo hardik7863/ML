{
 "cells": [
  {
   "cell_type": "markdown",
   "metadata": {},
   "source": [
    "weak learner is a decision tree stump and decision tree stump has the depth of 1"
   ]
  },
  {
   "cell_type": "markdown",
   "metadata": {},
   "source": [
    "step1- We create the decision tree stump and we select the best Decision tree stump using\n",
    "entropy or gini impurity\n",
    "\n",
    "with different features we make decision tree stumps \n",
    "\n",
    "eg:- taking salary feature for making decision tree stump one and credit for second decision tree stump\n",
    "\n",
    "out of these two decision tree stump we will select only oneas weak leaner based on the entropy or Gini Impurity"
   ]
  },
  {
   "cell_type": "markdown",
   "metadata": {},
   "source": [
    "step2- calculate the sum of total errors and performance of stump\n",
    "\n",
    "we will count no. of values here are 7 so we will assign the 1/7 equal weights to all \n",
    "\n",
    "sample error helps in calculating the sum of total error\n",
    "\n",
    "lets say 1 yes on left node of first decision tree stump is the error then the total error is calculated by adding the sample weights of this errors \n",
    "\n",
    "this total error is used to claculate the performance os stump \n",
    "\n",
    "this performance is the weight and m1 is the first decision tree stump"
   ]
  },
  {
   "cell_type": "markdown",
   "metadata": {},
   "source": [
    "step-3 Update the weights for correctly and Incorrectly Classified Points\n",
    "\n",
    "the sample weight of correctly classified points are decreased and whereas the sample weight of incorrectly classified pointa are increased\n"
   ]
  },
  {
   "cell_type": "markdown",
   "metadata": {},
   "source": [
    "Step-4 Normalized Weights Computation And Assigning bins\n",
    "\n",
    "previously all are equally divide weights but now they are not so we need to normalise them\n",
    "\n",
    "this will be achieve by summing the update weights and divide the each sample weight with this sum of weights\n",
    "\n",
    "we need to build a mechanism which make sure that our first decision tree stump passes only or mostly incorect classified records to the next decision tree stump\n",
    "\n",
    "we will be assigning bins to achieve it \n",
    "\n",
    "the range is set by adding normailsed weight points to higher value of previous range"
   ]
  },
  {
   "cell_type": "markdown",
   "metadata": {},
   "source": [
    "Step-5 Select data points to send to next stump\n",
    "\n",
    "iterative process selecting random value between 0 and 1 till all records are generated"
   ]
  },
  {
   "cell_type": "markdown",
   "metadata": {},
   "source": [
    "Step-6 Then records will be sent to next Decision tree stump\n",
    "\n",
    "and above all steps are again repeated untill all the decision tree stumps are no finished"
   ]
  },
  {
   "cell_type": "markdown",
   "metadata": {},
   "source": [
    "Step-7 Final Prediction\n",
    "\n",
    "then f will be calulated the majority values will be considered as the output\n",
    "\n",
    "eg:-performance of say (yes)=1.136 > Performance of say(No)=0.350\n",
    "\n",
    "output is yes"
   ]
  },
  {
   "cell_type": "markdown",
   "metadata": {},
   "source": []
  }
 ],
 "metadata": {
  "language_info": {
   "name": "python"
  }
 },
 "nbformat": 4,
 "nbformat_minor": 2
}
