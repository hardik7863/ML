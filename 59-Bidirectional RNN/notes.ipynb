{
 "cells": [
  {
   "cell_type": "markdown",
   "metadata": {},
   "source": [
    "image captioning is taking image as input and give details about image in output"
   ]
  },
  {
   "cell_type": "markdown",
   "metadata": {},
   "source": [
    "if we are considering all the output wrt to all inputs then we will use many to many RNN"
   ]
  },
  {
   "cell_type": "markdown",
   "metadata": {},
   "source": [
    "bidirectional RNN is diffrerent from other RNN because it consider not only the previous context but also consider the upcoming context in the sentence"
   ]
  },
  {
   "cell_type": "markdown",
   "metadata": {},
   "source": [
    "In Bidirectional RNN, we use another RNN in reverse order in which we give the words of the sentence in the reverse order so that let say y3 need to predict and it  has the previous and upcoming context to predict "
   ]
  },
  {
   "cell_type": "markdown",
   "metadata": {},
   "source": [
    "Assignment {Go through the research paper}:\n",
    "\n",
    "get the equation of forward propogation and other equation of architecture"
   ]
  },
  {
   "cell_type": "markdown",
   "metadata": {},
   "source": []
  }
 ],
 "metadata": {
  "language_info": {
   "name": "python"
  }
 },
 "nbformat": 4,
 "nbformat_minor": 2
}
