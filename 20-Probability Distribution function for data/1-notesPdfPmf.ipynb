{
 "cells": [
  {
   "cell_type": "markdown",
   "metadata": {},
   "source": [
    "Probability Density Function:-if pr(x=40)=0.05 it doesn't mean \n",
    "probability at x=40 is 5%\n",
    "\n",
    "Cummulative probability vs random variable \n",
    "\n",
    "usually take S shape \n",
    "\n",
    "max value of cummulative probability is 1\n",
    "\n",
    "cummulative probability shows at what part of area particular point lies\n",
    "\n",
    "pr(X<=45) =0.8=80% \n",
    "\n",
    "this random variable has 80 % probability to lie in this area\n",
    "\n",
    "probability density can be calculated from slope of cummulative probability \n",
    "\n",
    "higher the slope of cummulative probability higher the value of probability density \n"
   ]
  },
  {
   "cell_type": "markdown",
   "metadata": {},
   "source": [
    "Standard normal distribution (Z-Score) helps to calculate the how far the standard deviatiation from mean "
   ]
  },
  {
   "cell_type": "markdown",
   "metadata": {},
   "source": [
    "z score is used to transform the dataset values in terms of mean and variance using the formula \n",
    "\n",
    "z-score=Xi-u/sigma"
   ]
  },
  {
   "cell_type": "markdown",
   "metadata": {},
   "source": [
    "if we take natural log of log normal distribution it will give normal distribution which can be conform using Q,Qplot\n",
    "if we have normal distribution if we take exponential of normal distribution it will give log normal distribution"
   ]
  },
  {
   "cell_type": "markdown",
   "metadata": {},
   "source": [
    "in pareto distribution, if the alpha value increases then the height of the curve increases"
   ]
  },
  {
   "cell_type": "markdown",
   "metadata": {},
   "source": [
    "we can apply boxcox transformation to convert the parento distribution into normal distribution"
   ]
  },
  {
   "cell_type": "markdown",
   "metadata": {},
   "source": [
    "Central limit theorem says that population data following any distribution if we take the sample size of n on taking the mean of these samples and ploting these means will follow normal distribution where population mean=sample mean but population std = sigma/root of n "
   ]
  },
  {
   "cell_type": "markdown",
   "metadata": {},
   "source": []
  }
 ],
 "metadata": {
  "language_info": {
   "name": "python"
  }
 },
 "nbformat": 4,
 "nbformat_minor": 2
}
