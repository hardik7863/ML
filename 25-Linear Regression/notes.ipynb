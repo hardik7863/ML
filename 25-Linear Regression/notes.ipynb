{
 "cells": [
  {
   "cell_type": "markdown",
   "metadata": {},
   "source": [
    "the problem with r square is when a non correlated feature is considered then its perfermance value increses but ideally it should decreses hence we use adjusted r square to figure out the performance of the model"
   ]
  },
  {
   "cell_type": "markdown",
   "metadata": {},
   "source": [
    "MSE,MAE,RMSE  are differernt cost function which we consider to get the best performance of the model"
   ]
  },
  {
   "cell_type": "markdown",
   "metadata": {},
   "source": [
    "interview question when to use MSE vs MAE vs RMSE\n",
    "R Square vs Adjusted R Square"
   ]
  },
  {
   "cell_type": "markdown",
   "metadata": {},
   "source": [
    "generally called bias variance trade off\n",
    "\n",
    "orange =test dataset\n",
    "white =training dataset"
   ]
  },
  {
   "cell_type": "markdown",
   "metadata": {},
   "source": [
    "  "
   ]
  }
 ],
 "metadata": {
  "kernelspec": {
   "display_name": "Python 3",
   "language": "python",
   "name": "python3"
  },
  "language_info": {
   "name": "python",
   "version": "3.12.5"
  }
 },
 "nbformat": 4,
 "nbformat_minor": 2
}
