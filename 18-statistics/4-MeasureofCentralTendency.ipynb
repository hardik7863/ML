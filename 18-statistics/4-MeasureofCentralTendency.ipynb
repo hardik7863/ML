{
 "cells": [
  {
   "cell_type": "markdown",
   "metadata": {},
   "source": [
    "Mode:- We select the element which has maximum frequency \n",
    "eg:-\n",
    "{4,3,2,11,4,4,5,2,100}\n",
    "mode=4"
   ]
  }
 ],
 "metadata": {
  "language_info": {
   "name": "python"
  }
 },
 "nbformat": 4,
 "nbformat_minor": 2
}
