{
 "cells": [
  {
   "cell_type": "markdown",
   "metadata": {},
   "source": [
    "1) Program\n",
    "2) Process\n",
    "3) Threads\n",
    "4) Examples of process and Threads\n"
   ]
  },
  {
   "cell_type": "markdown",
   "metadata": {},
   "source": [
    "Program:- A Program is a sequence of instructions written in programming language [Eg: Python,C++]"
   ]
  },
  {
   "cell_type": "markdown",
   "metadata": {},
   "source": [
    "Eg:- Google Chrome -> .exe <-Program which tells about how browser should work\n",
    "Eg:- Word,excel,etc"
   ]
  },
  {
   "cell_type": "markdown",
   "metadata": {},
   "source": [
    "2)Process :- A process is simply an instance of a program that is being executed \n",
    "process works along with OS because it requires computer resources"
   ]
  },
  {
   "cell_type": "markdown",
   "metadata": {},
   "source": [
    "THE RESOURCES REQUIRED ARE:-"
   ]
  },
  {
   "cell_type": "markdown",
   "metadata": {},
   "source": [
    "code segment:- THE PROGRAM OR CODE WILL BE AVAILABLE IN THIS SEGMENT"
   ]
  },
  {
   "cell_type": "markdown",
   "metadata": {},
   "source": [
    "data segment:- it has the list of all global and local variable"
   ]
  },
  {
   "cell_type": "markdown",
   "metadata": {},
   "source": [
    "heap memory :- dynamic memory"
   ]
  },
  {
   "cell_type": "markdown",
   "metadata": {},
   "source": [
    "stack:- it make sure that it has the access of all local function and variable"
   ]
  },
  {
   "cell_type": "markdown",
   "metadata": {},
   "source": [
    "Registers:- small memory used for storing values and logics"
   ]
  },
  {
   "cell_type": "markdown",
   "metadata": {},
   "source": [
    "see the image in this folder for visualization of figure"
   ]
  },
  {
   "cell_type": "markdown",
   "metadata": {},
   "source": [
    "For every process have seperate Memory Space:-\n",
    "1) one process cannot corrupt another process\n",
    "2) Diff I/O requirements \n",
    "3) Increased execution time to switch between process\n",
    "\n"
   ]
  },
  {
   "cell_type": "markdown",
   "metadata": {},
   "source": [
    "Eg:- Browser\n",
    "Excel->process->Id\n",
    "each process has id assiociated with it "
   ]
  },
  {
   "cell_type": "markdown",
   "metadata": {},
   "source": [
    "Thread:- A thread is a unit of execution within a process "
   ]
  }
 ],
 "metadata": {
  "language_info": {
   "name": "python"
  }
 },
 "nbformat": 4,
 "nbformat_minor": 2
}
