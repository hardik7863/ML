{
 "cells": [
  {
   "cell_type": "code",
   "execution_count": null,
   "metadata": {},
   "outputs": [],
   "source": [
    "# even though two different distribution having different elements still getting the same population mean\n",
    "# dist1={2,2,4,4} and dist2={1,1,5,5}\n",
    "# here we study another factor in stats i.e variance it is used to measure the spread or dispersion\n",
    "# in dist2 the spread is more whereas in dist1 spread is less i.e  5 is far from 3 and 4 is close to 3\n",
    "# more variance more dispersion from mean\n"
   ]
  },
  {
   "cell_type": "code",
   "execution_count": 1,
   "metadata": {},
   "outputs": [],
   "source": [
    "# sigma square is used to represent population variance where is S square is used to represent the sample variance\n",
    "# why do we divide by n-1 in sample variance\n",
    "# this is also called besel's correction\n",
    "# in this correction, if take n instead of n-1 and then if we calculate the population variance \n",
    "# and sample variance the difference in their value will be more\n",
    "# in order to reduce the difference between population and sample variance we take n-1 instead of n in sample variance\n",
    "# so that population variance and sample variance values should be close"
   ]
  },
  {
   "cell_type": "code",
   "execution_count": 3,
   "metadata": {},
   "outputs": [],
   "source": [
    "# Standard Deviation tells you how far a data point is away from mean \n",
    "# if mean is 3  and standard deviation is 1 then we can say 4 is one standard deviation right from the mean\n",
    "# 2 is the one standard deviaton left from the mean"
   ]
  },
  {
   "cell_type": "code",
   "execution_count": 4,
   "metadata": {},
   "outputs": [],
   "source": [
    "# S represents the sample standard deviation"
   ]
  },
  {
   "cell_type": "code",
   "execution_count": null,
   "metadata": {},
   "outputs": [],
   "source": []
  }
 ],
 "metadata": {
  "kernelspec": {
   "display_name": "Python 3",
   "language": "python",
   "name": "python3"
  },
  "language_info": {
   "codemirror_mode": {
    "name": "ipython",
    "version": 3
   },
   "file_extension": ".py",
   "mimetype": "text/x-python",
   "name": "python",
   "nbconvert_exporter": "python",
   "pygments_lexer": "ipython3",
   "version": "3.12.5"
  }
 },
 "nbformat": 4,
 "nbformat_minor": 2
}
