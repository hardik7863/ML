{
 "cells": [
  {
   "cell_type": "markdown",
   "metadata": {},
   "source": [
    "Random variable is represented  by X "
   ]
  },
  {
   "cell_type": "markdown",
   "metadata": {},
   "source": [
    "discrete quantitative variable are always whole number\n",
    "contineous quantitative variable can be any value other than negative"
   ]
  },
  {
   "cell_type": "markdown",
   "metadata": {},
   "source": [
    "Random variable is a variable which can take different values ,\n",
    "Random variable are the functions whoses values are derived from different processes or experiements \n",
    "\n",
    "eg:- y=5x +2, y=5+2=7"
   ]
  },
  {
   "cell_type": "markdown",
   "metadata": {},
   "source": []
  }
 ],
 "metadata": {
  "kernelspec": {
   "display_name": "Python 3",
   "language": "python",
   "name": "python3"
  },
  "language_info": {
   "name": "python",
   "version": "3.12.5"
  }
 },
 "nbformat": 4,
 "nbformat_minor": 2
}
