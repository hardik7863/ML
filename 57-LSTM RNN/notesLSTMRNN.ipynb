{
 "cells": [
  {
   "cell_type": "markdown",
   "metadata": {},
   "source": [
    "This document has explained very well about LSTM\n",
    "\n",
    "https://colah.github.io/posts/2015-08-Understanding-LSTMs/"
   ]
  },
  {
   "cell_type": "markdown",
   "metadata": {},
   "source": [
    "when the sentence is the color of the sky is ________ then the word at the place of blank can be easily predicted by Simple RNN and no need of futher context no vainishing gradient problem will arise and the gap between the blank and sky,color is less but in case of the sentence I grew Up in India ...... I speak fluent_______ language  since there are many languages spoken in india it will require futher context to predict the language.\n",
    "\n",
    "The blank is dependent on the word India since there is huge gap between the blank and India then there is long term dependency and which lead to vanishing gradient problem which cannot be solve by simple RNN."
   ]
  },
  {
   "cell_type": "markdown",
   "metadata": {},
   "source": [
    "In simple RNN , the feedback loop is for short term memory and in LSTM RNN we have two memories Long Term Memory and short term Memory.Lomng term memory is responisble for removing the context which is not required and adding the context which is required."
   ]
  },
  {
   "cell_type": "markdown",
   "metadata": {},
   "source": [
    "**LSTM Architecture**\n",
    "\n",
    "It has three parts \n",
    "1) Forget Gate\n",
    "\n",
    "2) Input Gate\n",
    "\n",
    "3) Output Gate\n"
   ]
  },
  {
   "cell_type": "markdown",
   "metadata": {},
   "source": [
    "H (t-1) is the short term memory of the previous hidden state \n",
    "\n",
    "Concatenating is the combining of the vectors"
   ]
  },
  {
   "cell_type": "markdown",
   "metadata": {},
   "source": [
    "Memory cell is responsible for the long term memory\n",
    "\n",
    "Ct-1 is the memory cell of previous time stamp"
   ]
  },
  {
   "cell_type": "markdown",
   "metadata": {},
   "source": [
    "Xt can be any dimension if Ht-1 is 3d then Ct-1 is also will be 3d"
   ]
  },
  {
   "cell_type": "markdown",
   "metadata": {},
   "source": [
    "the work of candidate memory is to add the new information into cell state"
   ]
  },
  {
   "cell_type": "markdown",
   "metadata": {},
   "source": [
    "output gate is used to differentiate the proper memory state and hidden state i.e short term memory"
   ]
  },
  {
   "cell_type": "markdown",
   "metadata": {},
   "source": [
    "how the relation btw the features and word is calculated is like black box you wont be getting how it works internally"
   ]
  },
  {
   "cell_type": "markdown",
   "metadata": {},
   "source": [
    "the value of features will change based on input word "
   ]
  },
  {
   "cell_type": "markdown",
   "metadata": {},
   "source": [
    "In LSTM first variant, in this forgot gate , i/p gate o/p gate is allowed to takes decision considering the previous context from memory cell"
   ]
  },
  {
   "cell_type": "markdown",
   "metadata": {},
   "source": [
    "LSTM is the complex architecture,due to which trainable parameters keep on increasing then training time will also increases "
   ]
  },
  {
   "cell_type": "markdown",
   "metadata": {},
   "source": [
    "LSTM GRU RNN , single memory cell act as long term and short term memory"
   ]
  },
  {
   "cell_type": "markdown",
   "metadata": {},
   "source": [
    "1-zt this operation is done to extract some information "
   ]
  },
  {
   "cell_type": "markdown",
   "metadata": {},
   "source": [
    "whenever you observe x operation then it should click in your mind that it is going to forgot some information"
   ]
  },
  {
   "cell_type": "markdown",
   "metadata": {},
   "source": [
    "Zt is responsible for what context information needs to be added depending on the candidate hidden state [current state]"
   ]
  },
  {
   "cell_type": "markdown",
   "metadata": {},
   "source": [
    "in this final o/p is depending on the combination of update gate and candidate memory "
   ]
  },
  {
   "cell_type": "markdown",
   "metadata": {},
   "source": []
  }
 ],
 "metadata": {
  "kernelspec": {
   "display_name": "RNNProject",
   "language": "python",
   "name": "python3"
  },
  "language_info": {
   "name": "python",
   "version": "3.11.11"
  }
 },
 "nbformat": 4,
 "nbformat_minor": 2
}
