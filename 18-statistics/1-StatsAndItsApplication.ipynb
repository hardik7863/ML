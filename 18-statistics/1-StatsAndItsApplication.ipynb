{
 "cells": [
  {
   "cell_type": "markdown",
   "metadata": {},
   "source": [
    "What is Statistics And Its Application ?\n"
   ]
  },
  {
   "cell_type": "markdown",
   "metadata": {},
   "source": [
    "Statistics is a field that deals with collection,organization,analysis,interpretation and presentation of the data"
   ]
  },
  {
   "cell_type": "markdown",
   "metadata": {},
   "source": [
    "Application:- Decision Making"
   ]
  },
  {
   "cell_type": "markdown",
   "metadata": {},
   "source": [
    "Online Shopping"
   ]
  },
  {
   "cell_type": "markdown",
   "metadata": {},
   "source": [
    "Eg:-age ={24,27,14,13,28,29,31,32}"
   ]
  },
  {
   "cell_type": "markdown",
   "metadata": {},
   "source": [
    "1) Mean\n",
    "2) Median\n",
    "3) Distribution"
   ]
  },
  {
   "cell_type": "markdown",
   "metadata": {},
   "source": [
    "Charts and Graphs\n",
    "1) Histogram\n",
    "2) PDF\n",
    "3) CDF\n",
    "\n",
    "above all are used to understand the data and make some decision  to grow your business"
   ]
  },
  {
   "cell_type": "markdown",
   "metadata": {},
   "source": [
    "Eg:- Bank wants to setup atm in a location they will see the mean transaction and eklctricity and other cost "
   ]
  },
  {
   "cell_type": "markdown",
   "metadata": {},
   "source": [
    "Application:-\n",
    "1) Every one uses it\n",
    "2) Machine learning\n",
    "3) Data Analyst\n",
    "4) Busieness Analyst\n",
    "5) Risk Analyst\n",
    "6) House wife\n",
    "7) in every field"
   ]
  },
  {
   "cell_type": "markdown",
   "metadata": {},
   "source": []
  }
 ],
 "metadata": {
  "kernelspec": {
   "display_name": "venv",
   "language": "python",
   "name": "python3"
  },
  "language_info": {
   "name": "python",
   "version": "3.12.5"
  }
 },
 "nbformat": 4,
 "nbformat_minor": 2
}
