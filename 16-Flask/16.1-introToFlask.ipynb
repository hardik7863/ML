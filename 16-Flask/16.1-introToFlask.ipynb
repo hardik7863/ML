{
 "cells": [
  {
   "cell_type": "markdown",
   "metadata": {},
   "source": [
    "FLASK FRAMEWORK"
   ]
  },
  {
   "cell_type": "markdown",
   "metadata": {},
   "source": [
    "Two important components :-\n",
    "1) WSGI-> Web Server Gateway Interface\n",
    "2) Jinja 2 Template Engine"
   ]
  },
  {
   "cell_type": "markdown",
   "metadata": {},
   "source": [
    "Flask:- Web framework which is created with the python programming language"
   ]
  },
  {
   "cell_type": "markdown",
   "metadata": {},
   "source": [
    "refer 1.png"
   ]
  },
  {
   "cell_type": "markdown",
   "metadata": {},
   "source": [
    "we use flask framework for creating the web app which can be deployed on amazon EC2 ,AZure App,Apache,etc or any other cloud\n",
    "\n",
    "when req is made to the web server  then web server req the web app and response is send from web app to the web server this is done through WSGI protocol"
   ]
  },
  {
   "cell_type": "markdown",
   "metadata": {},
   "source": [
    "refer 2.png\n"
   ]
  },
  {
   "cell_type": "markdown",
   "metadata": {},
   "source": [
    "all the type of data like SqlDb ,csv sheet ,ml model,mongodb,etc\n",
    "or any data source is send to the the web templates which load the entire web pages"
   ]
  },
  {
   "cell_type": "markdown",
   "metadata": {},
   "source": [
    "it combines the layout of pages for creating dynamic web pages"
   ]
  },
  {
   "cell_type": "markdown",
   "metadata": {},
   "source": [
    "refer 3.png"
   ]
  }
 ],
 "metadata": {
  "language_info": {
   "name": "python"
  }
 },
 "nbformat": 4,
 "nbformat_minor": 2
}
